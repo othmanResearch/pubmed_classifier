{
 "cells": [
  {
   "cell_type": "code",
   "execution_count": 1,
   "id": "4277d8f4-1390-4367-981b-f0deb9827de6",
   "metadata": {},
   "outputs": [],
   "source": [
    "from sklearn.model_selection import train_test_split\n",
    "from sklearn.feature_extraction.text import TfidfVectorizer\n",
    "from sklearn.metrics import accuracy_score, classification_report\n",
    "from sklearn.svm import SVC\n",
    "import pickle"
   ]
  },
  {
   "cell_type": "code",
   "execution_count": 16,
   "id": "860dc2c3-0f79-4c51-a01e-87fe67d7f60a",
   "metadata": {},
   "outputs": [],
   "source": [
    "with open(\"../output_preprocessing/positive.pkl\", \"rb\") as f:   # rb = read-binary\n",
    "    positive = pickle.load(f)\n",
    "\n",
    "with open(\"../output_preprocessing/negative_filtered.pkl\", \"rb\") as f:   # rb = read-binary\n",
    "    negative = pickle.load(f)\n",
    "\n",
    "\n",
    "processed_data = positive+negative\n",
    "labels = len(positive)*[1]+len(negative)*[0]"
   ]
  },
  {
   "cell_type": "code",
   "execution_count": 10,
   "id": "97bd7f2a-cc61-48c2-ae9d-246c7057aef0",
   "metadata": {},
   "outputs": [
    {
     "name": "stdout",
     "output_type": "stream",
     "text": [
      "                     Accuracy   ROC_AUC\n",
      "Logistic Regression  0.868413  0.936861\n",
      "Random Forest        0.864546  0.932067\n",
      "Gradient Boosting    0.870057  0.938583\n",
      "SVM                  0.873151  0.940325\n",
      "Naive Bayes          0.850624  0.917716\n",
      "KNN                  0.725902  0.840479\n"
     ]
    }
   ],
   "source": [
    "import pandas as pd\n",
    "from sklearn.model_selection import train_test_split\n",
    "from sklearn.metrics import accuracy_score, roc_auc_score\n",
    "from sklearn.feature_extraction.text import TfidfVectorizer, CountVectorizer\n",
    "from sklearn.linear_model import LogisticRegression\n",
    "from sklearn.ensemble import RandomForestClassifier, GradientBoostingClassifier\n",
    "from sklearn.svm import SVC\n",
    "from sklearn.naive_bayes import MultinomialNB\n",
    "from sklearn.neighbors import KNeighborsClassifier\n",
    "\n",
    "# --- Example inputs ---\n",
    "# processed_data = pd.Series([\"good movie\", \"bad film\", \"excellent acting\"])  # tokenized/preprocessed text\n",
    "# labels = [1, 0, 1]  # binary labels\n",
    "\n",
    "# --- Vectorize text ---\n",
    "vectorizer = TfidfVectorizer()   # or CountVectorizer(), HashingVectorizer(), etc.\n",
    "X = vectorizer.fit_transform(processed_data)\n",
    "\n",
    "# --- Train/test split ---\n",
    "X_train, X_test, y_train, y_test = train_test_split(\n",
    "    X, labels, test_size=0.2, random_state=42, stratify=labels\n",
    ")\n",
    "\n",
    "# --- Define classifiers ---\n",
    "models = {\n",
    "    \"Logistic Regression\": LogisticRegression(max_iter=1000),\n",
    "    \"Random Forest\": RandomForestClassifier(),\n",
    "    \"Gradient Boosting\": GradientBoostingClassifier(),\n",
    "    \"SVM\": SVC(probability=True),\n",
    "    \"Naive Bayes\": MultinomialNB(),      # suited for text\n",
    "    \"KNN\": KNeighborsClassifier()\n",
    "}\n",
    "\n",
    "results = {}\n",
    "\n",
    "# --- Evaluate each model ---\n",
    "for name, model in models.items():\n",
    "    model.fit(X_train, y_train)\n",
    "    y_pred = model.predict(X_test)\n",
    "\n",
    "    # Some classifiers (like SVC without probability=True) don’t support predict_proba\n",
    "    y_proba = model.predict_proba(X_test)[:, 1] if hasattr(model, \"predict_proba\") else None\n",
    "\n",
    "    acc = accuracy_score(y_test, y_pred)\n",
    "    auc = roc_auc_score(y_test, y_proba) if y_proba is not None else None\n",
    "\n",
    "    results[name] = {\"Accuracy\": acc, \"ROC_AUC\": auc}\n",
    "\n",
    "# --- Display results ---\n",
    "results_df = pd.DataFrame(results).T\n",
    "print(results_df)\n"
   ]
  },
  {
   "cell_type": "code",
   "execution_count": 14,
   "id": "c2ff384f-01b0-4cae-865f-fffec9759d59",
   "metadata": {},
   "outputs": [
    {
     "data": {
      "text/plain": [
       "<Compressed Sparse Row sparse matrix of dtype 'float64'\n",
       "\twith 3422321 stored elements and shape (41368, 120818)>"
      ]
     },
     "execution_count": 14,
     "metadata": {},
     "output_type": "execute_result"
    }
   ],
   "source": [
    "len(X_train)"
   ]
  },
  {
   "cell_type": "code",
   "execution_count": 19,
   "id": "745b70a3-8097-4e6a-b0c3-a11633fea2da",
   "metadata": {},
   "outputs": [
    {
     "name": "stdout",
     "output_type": "stream",
     "text": [
      "Best Logistic Regression params: {'clf__C': 10, 'clf__penalty': 'l2', 'tfidf__min_df': 2, 'tfidf__ngram_range': (1, 3)}\n",
      "Logistic Regression test performance:\n",
      "              precision    recall  f1-score   support\n",
      "\n",
      "           0       0.90      0.87      0.88      5962\n",
      "           1       0.83      0.86      0.85      4381\n",
      "\n",
      "    accuracy                           0.87     10343\n",
      "   macro avg       0.86      0.87      0.86     10343\n",
      "weighted avg       0.87      0.87      0.87     10343\n",
      "\n"
     ]
    }
   ],
   "source": [
    "import numpy as np\n",
    "from sklearn.feature_extraction.text import TfidfVectorizer\n",
    "from sklearn.model_selection import train_test_split, GridSearchCV\n",
    "from sklearn.pipeline import Pipeline\n",
    "from sklearn.linear_model import LogisticRegression\n",
    "from sklearn.svm import SVC\n",
    "from sklearn.metrics import classification_report\n",
    "\n",
    "\n",
    "# Train-test split\n",
    "X_train, X_test, y_train, y_test = train_test_split(processed_data, labels, test_size=0.2, random_state=42)\n",
    "\n",
    "# -------------------------------\n",
    "# 1. Logistic Regression Pipeline\n",
    "# -------------------------------\n",
    "lr_pipeline = Pipeline([\n",
    "    ('tfidf', TfidfVectorizer()), \n",
    "    ('clf', LogisticRegression(max_iter=2000, solver='liblinear'))\n",
    "])\n",
    "\n",
    "lr_params = {\n",
    "    'tfidf__ngram_range': [(1,1), (1,2), (1,3)],\n",
    "    'tfidf__min_df': [1, 2, 5],\n",
    "    'clf__C': [0.01, 0.1, 1, 10],\n",
    "    'clf__penalty': ['l1', 'l2']\n",
    "}\n",
    "\n",
    "lr_grid = GridSearchCV(lr_pipeline, lr_params, cv=5, scoring='accuracy', n_jobs=-1)\n",
    "lr_grid.fit(X_train, y_train)\n",
    "\n",
    "print(\"Best Logistic Regression params:\", lr_grid.best_params_)\n",
    "print(\"Logistic Regression test performance:\")\n",
    "print(classification_report(y_test, lr_grid.predict(X_test)))\n"
   ]
  },
  {
   "cell_type": "code",
   "execution_count": null,
   "id": "2404e47e-5180-4f39-bd33-3ff317c35225",
   "metadata": {},
   "outputs": [
    {
     "name": "stderr",
     "output_type": "stream",
     "text": [
      "/home/houcem/miniforge3/envs/data_env/lib/python3.13/site-packages/joblib/externals/loky/process_executor.py:752: UserWarning: A worker stopped while some jobs were given to the executor. This can be caused by a too short worker timeout or by a memory leak.\n",
      "  warnings.warn(\n"
     ]
    }
   ],
   "source": [
    "# -------------------------------\n",
    "# 2. Support Vector Classifier\n",
    "# -------------------------------\n",
    "svc_pipeline = Pipeline([\n",
    "    ('tfidf', TfidfVectorizer()),\n",
    "    ('clf', SVC())\n",
    "])\n",
    "\n",
    "svc_params = {\n",
    "    'tfidf__ngram_range': [(1,1), (1,2),(1,3)],\n",
    "    'tfidf__min_df': [1, 2, 5],\n",
    "    'clf__C': [0.1, 1, 10],\n",
    "    'clf__kernel': ['linear', 'rbf'],\n",
    "    'clf__gamma': ['scale', 'auto']\n",
    "}\n",
    "\n",
    "svc_grid = GridSearchCV(svc_pipeline, svc_params, cv=5, scoring='accuracy', n_jobs=-1)\n",
    "svc_grid.fit(X_train, y_train)\n",
    "\n",
    "print(\"Best SVC params:\", svc_grid.best_params_)\n",
    "print(\"SVC test performance:\")\n",
    "print(classification_report(y_test, svc_grid.predict(X_test)))\n"
   ]
  },
  {
   "cell_type": "code",
   "execution_count": null,
   "id": "edb5d011-8780-4e3d-b7d9-aa219991b053",
   "metadata": {},
   "outputs": [],
   "source": []
  }
 ],
 "metadata": {
  "kernelspec": {
   "display_name": "Python 3 (ipykernel)",
   "language": "python",
   "name": "python3"
  },
  "language_info": {
   "codemirror_mode": {
    "name": "ipython",
    "version": 3
   },
   "file_extension": ".py",
   "mimetype": "text/x-python",
   "name": "python",
   "nbconvert_exporter": "python",
   "pygments_lexer": "ipython3",
   "version": "3.13.1"
  }
 },
 "nbformat": 4,
 "nbformat_minor": 5
}
